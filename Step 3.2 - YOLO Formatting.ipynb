{
 "cells": [
  {
   "cell_type": "markdown",
   "metadata": {},
   "source": [
    "Change the current data structure to suit YOLO training format"
   ]
  },
  {
   "cell_type": "code",
   "execution_count": null,
   "metadata": {},
   "outputs": [],
   "source": [
    "!py csv_to_txt.py -i Combined_files.csv -o data/labels"
   ]
  },
  {
   "cell_type": "code",
   "execution_count": 1,
   "metadata": {},
   "outputs": [],
   "source": [
    "# COPY FILES from /cleaned_data to /data\n",
    "import os\n",
    "import shutil\n",
    " \n",
    "source = './cleaned_data'\n",
    "destination = './data/images'\n",
    "\n",
    "if not os.path.exists(destination):\n",
    "    os.mkdir(destination)\n",
    " \n",
    "# gather all files\n",
    "ls_class = os.listdir(source)\n",
    " \n",
    "for c in ls_class:\n",
    "# iterate on all files to copy them to destination folder\n",
    "    for files in os.listdir(os.path.join(source, c)):\n",
    "        src_path = os.path.join(source, c, files)\n",
    "        dst_path = os.path.join(destination, files)\n",
    "        shutil.copy2(src_path, dst_path)"
   ]
  },
  {
   "cell_type": "code",
   "execution_count": 30,
   "metadata": {},
   "outputs": [],
   "source": [
    "import glob\n",
    "import random\n",
    "import os\n",
    "import shutil\n",
    "\n",
    "# Get all paths to your images files and text files\n",
    "ls_class = [\n",
    "    'Cucumber',\n",
    "    'Spinach'\n",
    "]\n",
    "\n",
    "\n",
    "#### SPLIT TO YOLOV8 FORMAT ####\n",
    "data_split = 0.8\n",
    "\n",
    "PATH = os.path.join(os.getcwd(),'data')\n",
    "\n",
    "for c in ls_class:\n",
    "    img_paths = glob.glob(PATH+ '//images//' + c + '*.png')\n",
    "    txt_paths = glob.glob(PATH+ '//labels//' + c + '*.txt')\n",
    "\n",
    "    # Calculate number of files for training, validation\n",
    "    data_size = len(img_paths)\n",
    "    train_size = int(data_size * data_split)\n",
    "    \n",
    "    # Now split them\n",
    "    train_img_paths = img_paths[:train_size]\n",
    "    train_txt_paths = txt_paths[:train_size]\n",
    "\n",
    "    valid_img_paths = img_paths[train_size:]\n",
    "    valid_txt_paths = txt_paths[train_size:]\n",
    "\n",
    "    # Move them to train, valid folders\n",
    "    train_folder_image = PATH+'/train/images' \n",
    "    train_folder_label = PATH+'/train/labels' \n",
    "\n",
    "    valid_folder_image = PATH+'/valid/images'\n",
    "    valid_folder_label = PATH+'/valid/labels'\n",
    "\n",
    "\n",
    "    if not os.path.exists(train_folder_image):\n",
    "        os.makedirs(train_folder_image)\n",
    "        os.makedirs(train_folder_label)\n",
    "        os.makedirs(valid_folder_image)\n",
    "        os.makedirs(valid_folder_label)\n",
    "\n",
    "\n",
    "    def move(paths, folder):\n",
    "        for p in paths:\n",
    "            shutil.move(p, folder)\n",
    "\n",
    "    move(train_img_paths, train_folder_image)\n",
    "    move(train_txt_paths, train_folder_label)\n",
    "    move(valid_img_paths, valid_folder_image)\n",
    "    move(valid_txt_paths, valid_folder_label)\n",
    "\n",
    "shutil.rmtree(PATH + '/images')\n",
    "shutil.rmtree(PATH + '/labels')\n"
   ]
  }
 ],
 "metadata": {
  "kernelspec": {
   "display_name": "Python 3",
   "language": "python",
   "name": "python3"
  },
  "language_info": {
   "codemirror_mode": {
    "name": "ipython",
    "version": 3
   },
   "file_extension": ".py",
   "mimetype": "text/x-python",
   "name": "python",
   "nbconvert_exporter": "python",
   "pygments_lexer": "ipython3",
   "version": "3.10.0"
  }
 },
 "nbformat": 4,
 "nbformat_minor": 2
}

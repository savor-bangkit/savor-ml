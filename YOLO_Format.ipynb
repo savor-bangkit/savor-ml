{
 "cells": [
  {
   "cell_type": "code",
   "execution_count": 22,
   "metadata": {},
   "outputs": [],
   "source": [
    "#move to /data\n",
    "import os\n",
    " \n",
    "source = './cleaned_data'\n",
    "destination = './data/images'\n",
    "\n",
    "if not os.path.exists(destination):\n",
    "    os.mkdir(destination)\n",
    " \n",
    "# gather all files\n",
    "ls_class = os.listdir(source)\n",
    " \n",
    "for c in ls_class:\n",
    "# iterate on all files to move them to destination folder\n",
    "    for files in os.listdir(os.path.join(source, c)):\n",
    "        src_path = os.path.join(source, c, files)\n",
    "        dst_path = os.path.join(destination, files)\n",
    "        os.rename(src_path, dst_path)"
   ]
  },
  {
   "cell_type": "code",
   "execution_count": 30,
   "metadata": {},
   "outputs": [],
   "source": [
    "import glob\n",
    "import random\n",
    "import os\n",
    "import shutil\n",
    "\n",
    "# Get all paths to your images files and text files\n",
    "ls_class = [\n",
    "    'Cucumber',\n",
    "    'Spinach'\n",
    "]\n",
    "\n",
    "\n",
    "#### SPLIT TO YOLOV8 FORMAT ####\n",
    "data_split = 0.8\n",
    "\n",
    "PATH = os.path.join(os.getcwd(),'data')\n",
    "\n",
    "for c in ls_class:\n",
    "    img_paths = glob.glob(PATH+ '//images//' + c + '*.png')\n",
    "    txt_paths = glob.glob(PATH+ '//labels//' + c + '*.txt')\n",
    "\n",
    "    # Calculate number of files for training, validation\n",
    "    data_size = len(img_paths)\n",
    "    train_size = int(data_size * data_split)\n",
    "    \n",
    "    # Now split them\n",
    "    train_img_paths = img_paths[:train_size]\n",
    "    train_txt_paths = txt_paths[:train_size]\n",
    "\n",
    "    valid_img_paths = img_paths[train_size:]\n",
    "    valid_txt_paths = txt_paths[train_size:]\n",
    "\n",
    "    # Move them to train, valid folders\n",
    "    train_folder_image = PATH+'/train/images' \n",
    "    train_folder_label = PATH+'/train/labels' \n",
    "\n",
    "    valid_folder_image = PATH+'/valid/images'\n",
    "    valid_folder_label = PATH+'/valid/labels'\n",
    "\n",
    "\n",
    "    if not os.path.exists(train_folder_image):\n",
    "        os.makedirs(train_folder_image)\n",
    "        os.makedirs(train_folder_label)\n",
    "        os.makedirs(valid_folder_image)\n",
    "        os.makedirs(valid_folder_label)\n",
    "\n",
    "\n",
    "    def move(paths, folder):\n",
    "        for p in paths:\n",
    "            shutil.move(p, folder)\n",
    "\n",
    "    move(train_img_paths, train_folder_image)\n",
    "    move(train_txt_paths, train_folder_label)\n",
    "    move(valid_img_paths, valid_folder_image)\n",
    "    move(valid_txt_paths, valid_folder_label)\n",
    "\n",
    "shutil.rmtree(PATH + '/images')\n",
    "shutil.rmtree(PATH + '/labels')\n"
   ]
  },
  {
   "cell_type": "code",
   "execution_count": 37,
   "metadata": {},
   "outputs": [
    {
     "name": "stdout",
     "output_type": "stream",
     "text": [
      "Ultralytics YOLOv8.2.31  Python-3.10.0 torch-2.3.1+cpu CPU (11th Gen Intel Core(TM) i7-1165G7 2.80GHz)\n",
      "\u001b[34m\u001b[1mengine\\trainer: \u001b[0mtask=detect, mode=train, model=yolov8n.pt, data=C:\\xampp1\\htdocs\\savor-ml\\data.yml, epochs=10, time=None, patience=100, batch=16, imgsz=640, save=True, save_period=-1, cache=False, device=None, workers=8, project=None, name=train3, exist_ok=False, pretrained=True, optimizer=auto, verbose=True, seed=0, deterministic=True, single_cls=False, rect=False, cos_lr=False, close_mosaic=10, resume=False, amp=True, fraction=1.0, profile=False, freeze=None, multi_scale=False, overlap_mask=True, mask_ratio=4, dropout=0.0, val=True, split=val, save_json=False, save_hybrid=False, conf=None, iou=0.7, max_det=300, half=False, dnn=False, plots=True, source=None, vid_stride=1, stream_buffer=False, visualize=False, augment=False, agnostic_nms=False, classes=None, retina_masks=False, embed=None, show=False, save_frames=False, save_txt=False, save_conf=False, save_crop=False, show_labels=True, show_conf=True, show_boxes=True, line_width=None, format=torchscript, keras=False, optimize=False, int8=False, dynamic=False, simplify=False, opset=None, workspace=4, nms=False, lr0=0.01, lrf=0.01, momentum=0.937, weight_decay=0.0005, warmup_epochs=3.0, warmup_momentum=0.8, warmup_bias_lr=0.1, box=7.5, cls=0.5, dfl=1.5, pose=12.0, kobj=1.0, label_smoothing=0.0, nbs=64, hsv_h=0.015, hsv_s=0.7, hsv_v=0.4, degrees=0.0, translate=0.1, scale=0.5, shear=0.0, perspective=0.0, flipud=0.0, fliplr=0.5, bgr=0.0, mosaic=1.0, mixup=0.0, copy_paste=0.0, auto_augment=randaugment, erasing=0.4, crop_fraction=1.0, cfg=None, tracker=botsort.yaml, save_dir=c:\\Users\\Femi\\runs\\detect\\train3\n",
      "Overriding model.yaml nc=80 with nc=2\n",
      "\n",
      "                   from  n    params  module                                       arguments                     \n",
      "  0                  -1  1       464  ultralytics.nn.modules.conv.Conv             [3, 16, 3, 2]                 \n",
      "  1                  -1  1      4672  ultralytics.nn.modules.conv.Conv             [16, 32, 3, 2]                \n",
      "  2                  -1  1      7360  ultralytics.nn.modules.block.C2f             [32, 32, 1, True]             \n",
      "  3                  -1  1     18560  ultralytics.nn.modules.conv.Conv             [32, 64, 3, 2]                \n",
      "  4                  -1  2     49664  ultralytics.nn.modules.block.C2f             [64, 64, 2, True]             \n",
      "  5                  -1  1     73984  ultralytics.nn.modules.conv.Conv             [64, 128, 3, 2]               \n",
      "  6                  -1  2    197632  ultralytics.nn.modules.block.C2f             [128, 128, 2, True]           \n",
      "  7                  -1  1    295424  ultralytics.nn.modules.conv.Conv             [128, 256, 3, 2]              \n",
      "  8                  -1  1    460288  ultralytics.nn.modules.block.C2f             [256, 256, 1, True]           \n",
      "  9                  -1  1    164608  ultralytics.nn.modules.block.SPPF            [256, 256, 5]                 \n",
      " 10                  -1  1         0  torch.nn.modules.upsampling.Upsample         [None, 2, 'nearest']          \n",
      " 11             [-1, 6]  1         0  ultralytics.nn.modules.conv.Concat           [1]                           \n",
      " 12                  -1  1    148224  ultralytics.nn.modules.block.C2f             [384, 128, 1]                 \n",
      " 13                  -1  1         0  torch.nn.modules.upsampling.Upsample         [None, 2, 'nearest']          \n",
      " 14             [-1, 4]  1         0  ultralytics.nn.modules.conv.Concat           [1]                           \n",
      " 15                  -1  1     37248  ultralytics.nn.modules.block.C2f             [192, 64, 1]                  \n",
      " 16                  -1  1     36992  ultralytics.nn.modules.conv.Conv             [64, 64, 3, 2]                \n",
      " 17            [-1, 12]  1         0  ultralytics.nn.modules.conv.Concat           [1]                           \n",
      " 18                  -1  1    123648  ultralytics.nn.modules.block.C2f             [192, 128, 1]                 \n",
      " 19                  -1  1    147712  ultralytics.nn.modules.conv.Conv             [128, 128, 3, 2]              \n",
      " 20             [-1, 9]  1         0  ultralytics.nn.modules.conv.Concat           [1]                           \n",
      " 21                  -1  1    493056  ultralytics.nn.modules.block.C2f             [384, 256, 1]                 \n",
      " 22        [15, 18, 21]  1    751702  ultralytics.nn.modules.head.Detect           [2, [64, 128, 256]]           \n",
      "Model summary: 225 layers, 3011238 parameters, 3011222 gradients, 8.2 GFLOPs\n",
      "\n",
      "Transferred 319/355 items from pretrained weights\n",
      "\u001b[34m\u001b[1mTensorBoard: \u001b[0mStart with 'tensorboard --logdir c:\\Users\\Femi\\runs\\detect\\train3', view at http://localhost:6006/\n",
      "Freezing layer 'model.22.dfl.conv.weight'\n"
     ]
    },
    {
     "name": "stderr",
     "output_type": "stream",
     "text": [
      "\u001b[34m\u001b[1mtrain: \u001b[0mScanning C:\\xampp1\\htdocs\\savor-ml\\data\\train\\labels.cache... 158 images, 0 backgrounds, 0 corrupt: 100%|██████████| 158/158 [00:00<?, ?it/s]\n",
      "\u001b[34m\u001b[1mval: \u001b[0mScanning C:\\xampp1\\htdocs\\savor-ml\\data\\valid\\labels.cache... 41 images, 0 backgrounds, 0 corrupt: 100%|██████████| 41/41 [00:00<?, ?it/s]"
     ]
    },
    {
     "name": "stdout",
     "output_type": "stream",
     "text": [
      "Plotting labels to c:\\Users\\Femi\\runs\\detect\\train3\\labels.jpg... \n"
     ]
    },
    {
     "name": "stderr",
     "output_type": "stream",
     "text": [
      "\n"
     ]
    },
    {
     "name": "stdout",
     "output_type": "stream",
     "text": [
      "\u001b[34m\u001b[1moptimizer:\u001b[0m 'optimizer=auto' found, ignoring 'lr0=0.01' and 'momentum=0.937' and determining best 'optimizer', 'lr0' and 'momentum' automatically... \n",
      "\u001b[34m\u001b[1moptimizer:\u001b[0m AdamW(lr=0.001667, momentum=0.9) with parameter groups 57 weight(decay=0.0), 64 weight(decay=0.0005), 63 bias(decay=0.0)\n",
      "\u001b[34m\u001b[1mTensorBoard: \u001b[0mmodel graph visualization added \n",
      "Image sizes 640 train, 640 val\n",
      "Using 0 dataloader workers\n",
      "Logging results to \u001b[1mc:\\Users\\Femi\\runs\\detect\\train3\u001b[0m\n",
      "Starting training for 10 epochs...\n",
      "Closing dataloader mosaic\n",
      "\n",
      "      Epoch    GPU_mem   box_loss   cls_loss   dfl_loss  Instances       Size\n"
     ]
    },
    {
     "name": "stderr",
     "output_type": "stream",
     "text": [
      "       1/10         0G      1.512      3.147      1.952         47        640: 100%|██████████| 10/10 [04:11<00:00, 25.15s/it]\n",
      "                 Class     Images  Instances      Box(P          R      mAP50  mAP50-95): 100%|██████████| 2/2 [00:35<00:00, 17.71s/it]"
     ]
    },
    {
     "name": "stdout",
     "output_type": "stream",
     "text": [
      "                   all         41         97    0.00606      0.838      0.261      0.117\n"
     ]
    },
    {
     "name": "stderr",
     "output_type": "stream",
     "text": [
      "\n"
     ]
    },
    {
     "name": "stdout",
     "output_type": "stream",
     "text": [
      "\n",
      "      Epoch    GPU_mem   box_loss   cls_loss   dfl_loss  Instances       Size\n"
     ]
    },
    {
     "name": "stderr",
     "output_type": "stream",
     "text": [
      "       2/10         0G       1.26      2.466      1.767         46        640: 100%|██████████| 10/10 [04:45<00:00, 28.58s/it]\n",
      "                 Class     Images  Instances      Box(P          R      mAP50  mAP50-95): 100%|██████████| 2/2 [00:28<00:00, 14.24s/it]"
     ]
    },
    {
     "name": "stdout",
     "output_type": "stream",
     "text": [
      "                   all         41         97    0.00622      0.864      0.428       0.25\n"
     ]
    },
    {
     "name": "stderr",
     "output_type": "stream",
     "text": [
      "\n"
     ]
    },
    {
     "name": "stdout",
     "output_type": "stream",
     "text": [
      "\n",
      "      Epoch    GPU_mem   box_loss   cls_loss   dfl_loss  Instances       Size\n"
     ]
    },
    {
     "name": "stderr",
     "output_type": "stream",
     "text": [
      "       3/10         0G       1.23      2.104      1.741         20        640: 100%|██████████| 10/10 [04:34<00:00, 27.47s/it]\n",
      "                 Class     Images  Instances      Box(P          R      mAP50  mAP50-95): 100%|██████████| 2/2 [00:35<00:00, 17.64s/it]"
     ]
    },
    {
     "name": "stdout",
     "output_type": "stream",
     "text": [
      "                   all         41         97          1     0.0797      0.514       0.31\n"
     ]
    },
    {
     "name": "stderr",
     "output_type": "stream",
     "text": [
      "\n"
     ]
    },
    {
     "name": "stdout",
     "output_type": "stream",
     "text": [
      "\n",
      "      Epoch    GPU_mem   box_loss   cls_loss   dfl_loss  Instances       Size\n"
     ]
    },
    {
     "name": "stderr",
     "output_type": "stream",
     "text": [
      "       4/10         0G      1.218       1.99      1.697         22        640: 100%|██████████| 10/10 [04:08<00:00, 24.86s/it]\n",
      "                 Class     Images  Instances      Box(P          R      mAP50  mAP50-95): 100%|██████████| 2/2 [00:25<00:00, 12.54s/it]"
     ]
    },
    {
     "name": "stdout",
     "output_type": "stream",
     "text": [
      "                   all         41         97      0.805      0.162      0.585      0.351\n"
     ]
    },
    {
     "name": "stderr",
     "output_type": "stream",
     "text": [
      "\n"
     ]
    },
    {
     "name": "stdout",
     "output_type": "stream",
     "text": [
      "\n",
      "      Epoch    GPU_mem   box_loss   cls_loss   dfl_loss  Instances       Size\n"
     ]
    },
    {
     "name": "stderr",
     "output_type": "stream",
     "text": [
      "       5/10         0G      1.205      1.849      1.651         31        640: 100%|██████████| 10/10 [03:38<00:00, 21.86s/it]\n",
      "                 Class     Images  Instances      Box(P          R      mAP50  mAP50-95): 100%|██████████| 2/2 [00:42<00:00, 21.05s/it]"
     ]
    },
    {
     "name": "stdout",
     "output_type": "stream",
     "text": [
      "                   all         41         97      0.717      0.336      0.499      0.299\n"
     ]
    },
    {
     "name": "stderr",
     "output_type": "stream",
     "text": [
      "\n"
     ]
    },
    {
     "name": "stdout",
     "output_type": "stream",
     "text": [
      "\n",
      "      Epoch    GPU_mem   box_loss   cls_loss   dfl_loss  Instances       Size\n"
     ]
    },
    {
     "name": "stderr",
     "output_type": "stream",
     "text": [
      "       6/10         0G      1.285      1.924      1.704         21        640: 100%|██████████| 10/10 [04:38<00:00, 27.89s/it]\n",
      "                 Class     Images  Instances      Box(P          R      mAP50  mAP50-95): 100%|██████████| 2/2 [00:36<00:00, 18.07s/it]"
     ]
    },
    {
     "name": "stdout",
     "output_type": "stream",
     "text": [
      "                   all         41         97      0.698      0.376      0.612      0.375\n"
     ]
    },
    {
     "name": "stderr",
     "output_type": "stream",
     "text": [
      "\n"
     ]
    },
    {
     "name": "stdout",
     "output_type": "stream",
     "text": [
      "\n",
      "      Epoch    GPU_mem   box_loss   cls_loss   dfl_loss  Instances       Size\n"
     ]
    },
    {
     "name": "stderr",
     "output_type": "stream",
     "text": [
      "       7/10         0G       1.19      1.777       1.67         32        640: 100%|██████████| 10/10 [04:29<00:00, 26.91s/it]\n",
      "                 Class     Images  Instances      Box(P          R      mAP50  mAP50-95): 100%|██████████| 2/2 [00:26<00:00, 13.27s/it]"
     ]
    },
    {
     "name": "stdout",
     "output_type": "stream",
     "text": [
      "                   all         41         97      0.792      0.551      0.758      0.445\n"
     ]
    },
    {
     "name": "stderr",
     "output_type": "stream",
     "text": [
      "\n"
     ]
    },
    {
     "name": "stdout",
     "output_type": "stream",
     "text": [
      "\n",
      "      Epoch    GPU_mem   box_loss   cls_loss   dfl_loss  Instances       Size\n"
     ]
    },
    {
     "name": "stderr",
     "output_type": "stream",
     "text": [
      "       8/10         0G      1.136      1.681      1.609         41        640: 100%|██████████| 10/10 [04:54<00:00, 29.50s/it]\n",
      "                 Class     Images  Instances      Box(P          R      mAP50  mAP50-95): 100%|██████████| 2/2 [00:32<00:00, 16.25s/it]"
     ]
    },
    {
     "name": "stdout",
     "output_type": "stream",
     "text": [
      "                   all         41         97      0.705      0.643      0.727       0.42\n"
     ]
    },
    {
     "name": "stderr",
     "output_type": "stream",
     "text": [
      "\n"
     ]
    },
    {
     "name": "stdout",
     "output_type": "stream",
     "text": [
      "\n",
      "      Epoch    GPU_mem   box_loss   cls_loss   dfl_loss  Instances       Size\n"
     ]
    },
    {
     "name": "stderr",
     "output_type": "stream",
     "text": [
      "       9/10         0G      1.103      1.632      1.578         34        640: 100%|██████████| 10/10 [04:45<00:00, 28.56s/it]\n",
      "                 Class     Images  Instances      Box(P          R      mAP50  mAP50-95): 100%|██████████| 2/2 [00:29<00:00, 14.66s/it]"
     ]
    },
    {
     "name": "stdout",
     "output_type": "stream",
     "text": [
      "                   all         41         97      0.824      0.624      0.768      0.485\n"
     ]
    },
    {
     "name": "stderr",
     "output_type": "stream",
     "text": [
      "\n"
     ]
    },
    {
     "name": "stdout",
     "output_type": "stream",
     "text": [
      "\n",
      "      Epoch    GPU_mem   box_loss   cls_loss   dfl_loss  Instances       Size\n"
     ]
    },
    {
     "name": "stderr",
     "output_type": "stream",
     "text": [
      "      10/10         0G      1.094      1.537      1.567         35        640: 100%|██████████| 10/10 [05:37<00:00, 33.78s/it]\n",
      "                 Class     Images  Instances      Box(P          R      mAP50  mAP50-95): 100%|██████████| 2/2 [00:36<00:00, 18.04s/it]"
     ]
    },
    {
     "name": "stdout",
     "output_type": "stream",
     "text": [
      "                   all         41         97      0.851      0.641      0.773      0.534\n"
     ]
    },
    {
     "name": "stderr",
     "output_type": "stream",
     "text": [
      "\n"
     ]
    },
    {
     "name": "stdout",
     "output_type": "stream",
     "text": [
      "\n",
      "10 epochs completed in 0.858 hours.\n",
      "Optimizer stripped from c:\\Users\\Femi\\runs\\detect\\train3\\weights\\last.pt, 6.2MB\n",
      "Optimizer stripped from c:\\Users\\Femi\\runs\\detect\\train3\\weights\\best.pt, 6.2MB\n",
      "\n",
      "Validating c:\\Users\\Femi\\runs\\detect\\train3\\weights\\best.pt...\n",
      "Ultralytics YOLOv8.2.31  Python-3.10.0 torch-2.3.1+cpu CPU (11th Gen Intel Core(TM) i7-1165G7 2.80GHz)\n",
      "Model summary (fused): 168 layers, 3006038 parameters, 0 gradients, 8.1 GFLOPs\n"
     ]
    },
    {
     "name": "stderr",
     "output_type": "stream",
     "text": [
      "                 Class     Images  Instances      Box(P          R      mAP50  mAP50-95): 100%|██████████| 2/2 [00:19<00:00,  9.99s/it]\n"
     ]
    },
    {
     "name": "stdout",
     "output_type": "stream",
     "text": [
      "                   all         41         97      0.851      0.641      0.773      0.532\n",
      "               spinach         23         76      0.952      0.521      0.732      0.491\n",
      "              cucumber         18         21       0.75      0.762      0.815      0.572\n",
      "Speed: 8.4ms preprocess, 431.6ms inference, 0.0ms loss, 27.1ms postprocess per image\n",
      "Results saved to \u001b[1mc:\\Users\\Femi\\runs\\detect\\train3\u001b[0m\n"
     ]
    }
   ],
   "source": [
    "from ultralytics import YOLO\n",
    "\n",
    "model = YOLO(\"yolov8n.pt\")\n",
    "\n",
    "results = model.train(data ='C:\\\\xampp1\\\\htdocs\\\\savor-ml\\\\data.yml', epochs = 50)"
   ]
  },
  {
   "cell_type": "code",
   "execution_count": 3,
   "metadata": {},
   "outputs": [
    {
     "name": "stdout",
     "output_type": "stream",
     "text": [
      "\n",
      "image 1/1 c:\\xampp1\\htdocs\\savor-ml\\ingredients-for-green-juice.jpg: 640x480 3 spinachs, 213.8ms\n",
      "Speed: 4.6ms preprocess, 213.8ms inference, 1.0ms postprocess per image at shape (1, 3, 640, 480)\n"
     ]
    },
    {
     "data": {
      "text/plain": [
       "[ultralytics.engine.results.Results object with attributes:\n",
       " \n",
       " boxes: ultralytics.engine.results.Boxes object\n",
       " keypoints: None\n",
       " masks: None\n",
       " names: {0: 'spinach'}\n",
       " obb: None\n",
       " orig_img: array([[[ 26,  24,  24],\n",
       "         [ 30,  28,  28],\n",
       "         [ 29,  27,  27],\n",
       "         ...,\n",
       "         [ 10,  37,  57],\n",
       "         [  7,  34,  54],\n",
       "         [  6,  33,  53]],\n",
       " \n",
       "        [[ 31,  29,  29],\n",
       "         [ 32,  30,  30],\n",
       "         [ 30,  28,  28],\n",
       "         ...,\n",
       "         [ 10,  37,  57],\n",
       "         [  3,  30,  50],\n",
       "         [  3,  30,  50]],\n",
       " \n",
       "        [[ 39,  37,  37],\n",
       "         [ 38,  36,  36],\n",
       "         [ 35,  33,  33],\n",
       "         ...,\n",
       "         [ 13,  41,  58],\n",
       "         [  4,  32,  49],\n",
       "         [  5,  32,  52]],\n",
       " \n",
       "        ...,\n",
       " \n",
       "        [[246, 237, 223],\n",
       "         [252, 243, 229],\n",
       "         [251, 242, 228],\n",
       "         ...,\n",
       "         [143, 155, 159],\n",
       "         [134, 149, 152],\n",
       "         [148, 162, 168]],\n",
       " \n",
       "        [[244, 235, 221],\n",
       "         [247, 238, 224],\n",
       "         [247, 238, 224],\n",
       "         ...,\n",
       "         [144, 155, 159],\n",
       "         [141, 153, 157],\n",
       "         [141, 153, 159]],\n",
       " \n",
       "        [[244, 235, 221],\n",
       "         [241, 232, 218],\n",
       "         [242, 233, 219],\n",
       "         ...,\n",
       "         [137, 148, 152],\n",
       "         [156, 167, 171],\n",
       "         [151, 163, 169]]], dtype=uint8)\n",
       " orig_shape: (2048, 1529)\n",
       " path: 'c:\\\\xampp1\\\\htdocs\\\\savor-ml\\\\ingredients-for-green-juice.jpg'\n",
       " probs: None\n",
       " save_dir: 'c:\\\\Users\\\\Femi\\\\runs\\\\detect\\\\predict'\n",
       " speed: {'preprocess': 4.649162292480469, 'inference': 213.82451057434082, 'postprocess': 1.0051727294921875}]"
      ]
     },
     "execution_count": 3,
     "metadata": {},
     "output_type": "execute_result"
    }
   ],
   "source": [
    "model = YOLO('best.pt')\n",
    "model.predict('ingredients-for-green-juice.jpg')"
   ]
  }
 ],
 "metadata": {
  "kernelspec": {
   "display_name": "Python 3",
   "language": "python",
   "name": "python3"
  },
  "language_info": {
   "codemirror_mode": {
    "name": "ipython",
    "version": 3
   },
   "file_extension": ".py",
   "mimetype": "text/x-python",
   "name": "python",
   "nbconvert_exporter": "python",
   "pygments_lexer": "ipython3",
   "version": "3.10.0"
  }
 },
 "nbformat": 4,
 "nbformat_minor": 2
}
